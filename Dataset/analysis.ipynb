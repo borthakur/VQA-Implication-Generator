{
 "cells": [
  {
   "cell_type": "code",
   "execution_count": 7,
   "metadata": {},
   "outputs": [
    {
     "name": "stdout",
     "output_type": "stream",
     "text": [
      "Collecting xlrd\n",
      "  Using cached xlrd-1.2.0-py2.py3-none-any.whl (103 kB)\n",
      "Installing collected packages: xlrd\n",
      "  Attempting uninstall: xlrd\n",
      "    Found existing installation: xlrd 1.2.0\n",
      "    Uninstalling xlrd-1.2.0:\n",
      "      Successfully uninstalled xlrd-1.2.0\n",
      "Successfully installed xlrd-1.2.0\n"
     ]
    }
   ],
   "source": [
    "!pip install --upgrade --force-reinstall xlrd"
   ]
  },
  {
   "cell_type": "code",
   "execution_count": 8,
   "metadata": {},
   "outputs": [
    {
     "name": "stdout",
     "output_type": "stream",
     "text": [
      "Requirement already up-to-date: pandas in /Users/aditijain/opt/anaconda3/lib/python3.7/site-packages (1.0.4)\r\n",
      "Requirement already satisfied, skipping upgrade: python-dateutil>=2.6.1 in /Users/aditijain/opt/anaconda3/lib/python3.7/site-packages (from pandas) (2.8.1)\r\n",
      "Requirement already satisfied, skipping upgrade: numpy>=1.13.3 in /Users/aditijain/opt/anaconda3/lib/python3.7/site-packages (from pandas) (1.18.1)\r\n",
      "Requirement already satisfied, skipping upgrade: pytz>=2017.2 in /Users/aditijain/opt/anaconda3/lib/python3.7/site-packages (from pandas) (2019.3)\r\n",
      "Requirement already satisfied, skipping upgrade: six>=1.5 in /Users/aditijain/opt/anaconda3/lib/python3.7/site-packages (from python-dateutil>=2.6.1->pandas) (1.14.0)\r\n"
     ]
    }
   ],
   "source": [
    "!pip install --upgrade pandas"
   ]
  },
  {
   "cell_type": "code",
   "execution_count": 131,
   "metadata": {},
   "outputs": [],
   "source": [
    "from statistics import mean "
   ]
  },
  {
   "cell_type": "code",
   "execution_count": 1,
   "metadata": {},
   "outputs": [],
   "source": [
    "import pandas as pd"
   ]
  },
  {
   "cell_type": "code",
   "execution_count": 11,
   "metadata": {},
   "outputs": [
    {
     "data": {
      "text/html": [
       "<div>\n",
       "<style scoped>\n",
       "    .dataframe tbody tr th:only-of-type {\n",
       "        vertical-align: middle;\n",
       "    }\n",
       "\n",
       "    .dataframe tbody tr th {\n",
       "        vertical-align: top;\n",
       "    }\n",
       "\n",
       "    .dataframe thead th {\n",
       "        text-align: right;\n",
       "    }\n",
       "</style>\n",
       "<table border=\"1\" class=\"dataframe\">\n",
       "  <thead>\n",
       "    <tr style=\"text-align: right;\">\n",
       "      <th></th>\n",
       "      <th>Unnamed: 0</th>\n",
       "      <th>Logeq</th>\n",
       "      <th>Mutex</th>\n",
       "      <th>Necc</th>\n",
       "      <th>answer</th>\n",
       "      <th>qid</th>\n",
       "      <th>question</th>\n",
       "    </tr>\n",
       "  </thead>\n",
       "  <tbody>\n",
       "    <tr>\n",
       "      <th>0</th>\n",
       "      <td>0</td>\n",
       "      <td>is this dude using knife to cut the cake?</td>\n",
       "      <td>is this dude using a hammer to cut the cake?</td>\n",
       "      <td>is there any cake in the picture?</td>\n",
       "      <td>knife</td>\n",
       "      <td>340069003</td>\n",
       "      <td>This bored dude is using what instrument to cu...</td>\n",
       "    </tr>\n",
       "    <tr>\n",
       "      <th>1</th>\n",
       "      <td>3</td>\n",
       "      <td>is a city bus pictured?</td>\n",
       "      <td>is the type of bus  pictured a tourist bus?</td>\n",
       "      <td>is there a bus pictured?</td>\n",
       "      <td>city bus</td>\n",
       "      <td>188817001</td>\n",
       "      <td>What type of bus is pictured?</td>\n",
       "    </tr>\n",
       "    <tr>\n",
       "      <th>2</th>\n",
       "      <td>8</td>\n",
       "      <td>are there logs on the ground behind the giraffe?</td>\n",
       "      <td>is there spoon laying on the ground behind the...</td>\n",
       "      <td>is there a giraffe?</td>\n",
       "      <td>logs</td>\n",
       "      <td>573778003</td>\n",
       "      <td>What is laying on the ground behind the giraffe?</td>\n",
       "    </tr>\n",
       "    <tr>\n",
       "      <th>3</th>\n",
       "      <td>10</td>\n",
       "      <td>is the horse brown?</td>\n",
       "      <td>is the horse black?</td>\n",
       "      <td>is there a  horse?</td>\n",
       "      <td>brown</td>\n",
       "      <td>405135001</td>\n",
       "      <td>What color is the horse?</td>\n",
       "    </tr>\n",
       "    <tr>\n",
       "      <th>4</th>\n",
       "      <td>11</td>\n",
       "      <td>is the surfboard green?</td>\n",
       "      <td>is the surfboard yellow?</td>\n",
       "      <td>is there a surfboard?</td>\n",
       "      <td>green</td>\n",
       "      <td>187362006</td>\n",
       "      <td>What color is the surfboard?</td>\n",
       "    </tr>\n",
       "  </tbody>\n",
       "</table>\n",
       "</div>"
      ],
      "text/plain": [
       "  Unnamed: 0                                             Logeq  \\\n",
       "0          0         is this dude using knife to cut the cake?   \n",
       "1          3                           is a city bus pictured?   \n",
       "2          8  are there logs on the ground behind the giraffe?   \n",
       "3         10                               is the horse brown?   \n",
       "4         11                           is the surfboard green?   \n",
       "\n",
       "                                               Mutex  \\\n",
       "0       is this dude using a hammer to cut the cake?   \n",
       "1        is the type of bus  pictured a tourist bus?   \n",
       "2  is there spoon laying on the ground behind the...   \n",
       "3                                is the horse black?   \n",
       "4                           is the surfboard yellow?   \n",
       "\n",
       "                                Necc    answer        qid  \\\n",
       "0  is there any cake in the picture?     knife  340069003   \n",
       "1           is there a bus pictured?  city bus  188817001   \n",
       "2                is there a giraffe?      logs  573778003   \n",
       "3                 is there a  horse?     brown  405135001   \n",
       "4              is there a surfboard?     green  187362006   \n",
       "\n",
       "                                            question  \n",
       "0  This bored dude is using what instrument to cu...  \n",
       "1                      What type of bus is pictured?  \n",
       "2   What is laying on the ground behind the giraffe?  \n",
       "3                           What color is the horse?  \n",
       "4                       What color is the surfboard?  "
      ]
     },
     "execution_count": 11,
     "metadata": {},
     "output_type": "execute_result"
    }
   ],
   "source": [
    "validation = pd.read_excel('QA_from_val.xlsx')\n",
    "validation.head()"
   ]
  },
  {
   "cell_type": "code",
   "execution_count": 12,
   "metadata": {},
   "outputs": [
    {
     "name": "stdout",
     "output_type": "stream",
     "text": [
      "<class 'pandas.core.frame.DataFrame'>\n",
      "RangeIndex: 10321 entries, 0 to 10320\n",
      "Data columns (total 7 columns):\n",
      " #   Column      Non-Null Count  Dtype \n",
      "---  ------      --------------  ----- \n",
      " 0   Unnamed: 0  10321 non-null  object\n",
      " 1   Logeq       10321 non-null  object\n",
      " 2   Mutex       10321 non-null  object\n",
      " 3   Necc        10321 non-null  object\n",
      " 4   answer      10321 non-null  object\n",
      " 5   qid         10321 non-null  int64 \n",
      " 6   question    10321 non-null  object\n",
      "dtypes: int64(1), object(6)\n",
      "memory usage: 564.6+ KB\n"
     ]
    }
   ],
   "source": [
    "validation.info()"
   ]
  },
  {
   "cell_type": "code",
   "execution_count": 90,
   "metadata": {
    "scrolled": true
   },
   "outputs": [],
   "source": [
    "import pandas_profiling\n",
    "#pandas_profiling.ProfileReport(validation)"
   ]
  },
  {
   "cell_type": "code",
   "execution_count": 38,
   "metadata": {},
   "outputs": [
    {
     "name": "stderr",
     "output_type": "stream",
     "text": [
      "[nltk_data] Downloading package averaged_perceptron_tagger to\n",
      "[nltk_data]     /Users/aditijain/nltk_data...\n",
      "[nltk_data]   Package averaged_perceptron_tagger is already up-to-\n",
      "[nltk_data]       date!\n",
      "[nltk_data] Downloading package treebank to\n",
      "[nltk_data]     /Users/aditijain/nltk_data...\n",
      "[nltk_data]   Package treebank is already up-to-date!\n",
      "[nltk_data] Downloading package universal_tagset to\n",
      "[nltk_data]     /Users/aditijain/nltk_data...\n",
      "[nltk_data]   Unzipping taggers/universal_tagset.zip.\n"
     ]
    },
    {
     "data": {
      "text/plain": [
       "True"
      ]
     },
     "execution_count": 38,
     "metadata": {},
     "output_type": "execute_result"
    }
   ],
   "source": [
    "import nltk\n",
    "nltk.download('averaged_perceptron_tagger')\n",
    "nltk.download('treebank')\n",
    "nltk.download('universal_tagset')"
   ]
  },
  {
   "cell_type": "markdown",
   "metadata": {},
   "source": [
    "# Length wise comparison"
   ]
  },
  {
   "cell_type": "code",
   "execution_count": 132,
   "metadata": {},
   "outputs": [
    {
     "data": {
      "text/plain": [
       "25.71814746633078"
      ]
     },
     "execution_count": 132,
     "metadata": {},
     "output_type": "execute_result"
    },
    {
     "data": {
      "image/png": "[encoded data removed]",
      "text/plain": [
       "<Figure size 576x396 with 1 Axes>"
      ]
     },
     "metadata": {},
     "output_type": "display_data"
    }
   ],
   "source": [
    "validation['Necc'].str.len().hist(label='necc')\n",
    "mean(validation['Necc'].str.len())"
   ]
  },
  {
   "cell_type": "code",
   "execution_count": 133,
   "metadata": {},
   "outputs": [
    {
     "data": {
      "text/plain": [
       "30.2792365080903"
      ]
     },
     "execution_count": 133,
     "metadata": {},
     "output_type": "execute_result"
    },
    {
     "data": {
      "image/png": "[encoded data removed]",
      "text/plain": [
       "<Figure size 576x396 with 1 Axes>"
      ]
     },
     "metadata": {},
     "output_type": "display_data"
    }
   ],
   "source": [
    "validation['Mutex'].str.len().hist()\n",
    "mean(validation['Mutex'].str.len())"
   ]
  },
  {
   "cell_type": "code",
   "execution_count": 134,
   "metadata": {},
   "outputs": [
    {
     "data": {
      "text/plain": [
       "30.36188353841682"
      ]
     },
     "execution_count": 134,
     "metadata": {},
     "output_type": "execute_result"
    },
    {
     "data": {
      "image/png": "[encoded data removed]",
      "text/plain": [
       "<Figure size 576x396 with 1 Axes>"
      ]
     },
     "metadata": {},
     "output_type": "display_data"
    }
   ],
   "source": [
    "validation['Logeq'].str.len().hist(label='logeq')\n",
    "mean(validation['Logeq'].str.len())"
   ]
  },
  {
   "cell_type": "code",
   "execution_count": 135,
   "metadata": {},
   "outputs": [
    {
     "data": {
      "text/plain": [
       "31.630365274682685"
      ]
     },
     "execution_count": 135,
     "metadata": {},
     "output_type": "execute_result"
    },
    {
     "data": {
      "image/png": "[encoded data removed]",
      "text/plain": [
       "<Figure size 576x396 with 1 Axes>"
      ]
     },
     "metadata": {},
     "output_type": "display_data"
    }
   ],
   "source": [
    "validation['question'].str.len().hist(label='question')\n",
    "mean(validation['question'].str.len())"
   ]
  },
  {
   "cell_type": "markdown",
   "metadata": {},
   "source": [
    "# Tokenizing and tagging question category-wise"
   ]
  },
  {
   "cell_type": "code",
   "execution_count": 17,
   "metadata": {},
   "outputs": [
    {
     "name": "stdout",
     "output_type": "stream",
     "text": [
      "0             knife\n",
      "1          city bus\n",
      "2              logs\n",
      "3             brown\n",
      "4             green\n",
      "            ...    \n",
      "10316    microphone\n",
      "10317          bike\n",
      "10318      backpack\n",
      "10319             4\n",
      "10320      backpack\n",
      "Name: answer, Length: 10321, dtype: object\n"
     ]
    }
   ],
   "source": [
    "text_ans= validation.iloc[:,4]\n",
    "print(text_ans)"
   ]
  },
  {
   "cell_type": "code",
   "execution_count": 15,
   "metadata": {},
   "outputs": [],
   "source": [
    "from tensorflow.keras.preprocessing.text import Tokenizer\n",
    "from tensorflow.keras.preprocessing.sequence import pad_sequences\n"
   ]
  },
  {
   "cell_type": "code",
   "execution_count": 20,
   "metadata": {},
   "outputs": [],
   "source": [
    "#text_ans = text_ans.fillna('').apply(str)\n",
    "#text_ans = text_ans.fillna('NaN').apply(str)\n",
    "text_ans = text_ans.apply(str)\n"
   ]
  },
  {
   "cell_type": "code",
   "execution_count": 85,
   "metadata": {},
   "outputs": [
    {
     "name": "stdout",
     "output_type": "stream",
     "text": [
      "1581\n"
     ]
    }
   ],
   "source": [
    "tokenizer = Tokenizer(oov_token=\"<OOV>\") # Your Code Here\n",
    "tokenizer.fit_on_texts(text_ans)\n",
    "word_index1 = tokenizer.word_index\n",
    "print(len(word_index1))\n"
   ]
  },
  {
   "cell_type": "markdown",
   "metadata": {},
   "source": [
    "# POS Tag List"
   ]
  },
  {
   "attachments": {
    "image.png": {
     "image/png": "[encoded data removed]"
    }
   },
   "cell_type": "markdown",
   "metadata": {},
   "source": [
    "![image.png](attachment:image.png)"
   ]
  },
  {
   "cell_type": "markdown",
   "metadata": {},
   "source": [
    "# answer"
   ]
  },
  {
   "cell_type": "code",
   "execution_count": 100,
   "metadata": {},
   "outputs": [],
   "source": [
    "list_ans_tag= nltk.pos_tag(word_index1)"
   ]
  },
  {
   "cell_type": "code",
   "execution_count": 161,
   "metadata": {},
   "outputs": [
    {
     "data": {
      "text/html": [
       "<div>\n",
       "<style scoped>\n",
       "    .dataframe tbody tr th:only-of-type {\n",
       "        vertical-align: middle;\n",
       "    }\n",
       "\n",
       "    .dataframe tbody tr th {\n",
       "        vertical-align: top;\n",
       "    }\n",
       "\n",
       "    .dataframe thead th {\n",
       "        text-align: right;\n",
       "    }\n",
       "</style>\n",
       "<table border=\"1\" class=\"dataframe\">\n",
       "  <thead>\n",
       "    <tr style=\"text-align: right;\">\n",
       "      <th></th>\n",
       "      <th>word</th>\n",
       "      <th>POS</th>\n",
       "    </tr>\n",
       "  </thead>\n",
       "  <tbody>\n",
       "    <tr>\n",
       "      <th>0</th>\n",
       "      <td>&lt;OOV&gt;</td>\n",
       "      <td>RB</td>\n",
       "    </tr>\n",
       "    <tr>\n",
       "      <th>1</th>\n",
       "      <td>2</td>\n",
       "      <td>CD</td>\n",
       "    </tr>\n",
       "    <tr>\n",
       "      <th>2</th>\n",
       "      <td>1</td>\n",
       "      <td>CD</td>\n",
       "    </tr>\n",
       "    <tr>\n",
       "      <th>3</th>\n",
       "      <td>white</td>\n",
       "      <td>JJ</td>\n",
       "    </tr>\n",
       "    <tr>\n",
       "      <th>4</th>\n",
       "      <td>black</td>\n",
       "      <td>JJ</td>\n",
       "    </tr>\n",
       "    <tr>\n",
       "      <th>5</th>\n",
       "      <td>red</td>\n",
       "      <td>JJ</td>\n",
       "    </tr>\n",
       "    <tr>\n",
       "      <th>6</th>\n",
       "      <td>3</td>\n",
       "      <td>CD</td>\n",
       "    </tr>\n",
       "    <tr>\n",
       "      <th>7</th>\n",
       "      <td>blue</td>\n",
       "      <td>JJ</td>\n",
       "    </tr>\n",
       "    <tr>\n",
       "      <th>8</th>\n",
       "      <td>brown</td>\n",
       "      <td>VBN</td>\n",
       "    </tr>\n",
       "    <tr>\n",
       "      <th>9</th>\n",
       "      <td>green</td>\n",
       "      <td>JJ</td>\n",
       "    </tr>\n",
       "    <tr>\n",
       "      <th>10</th>\n",
       "      <td>4</td>\n",
       "      <td>CD</td>\n",
       "    </tr>\n",
       "    <tr>\n",
       "      <th>11</th>\n",
       "      <td>0</td>\n",
       "      <td>CD</td>\n",
       "    </tr>\n",
       "    <tr>\n",
       "      <th>12</th>\n",
       "      <td>and</td>\n",
       "      <td>CC</td>\n",
       "    </tr>\n",
       "    <tr>\n",
       "      <th>13</th>\n",
       "      <td>yellow</td>\n",
       "      <td>JJ</td>\n",
       "    </tr>\n",
       "    <tr>\n",
       "      <th>14</th>\n",
       "      <td>5</td>\n",
       "      <td>CD</td>\n",
       "    </tr>\n",
       "  </tbody>\n",
       "</table>\n",
       "</div>"
      ],
      "text/plain": [
       "      word  POS\n",
       "0    <OOV>   RB\n",
       "1        2   CD\n",
       "2        1   CD\n",
       "3    white   JJ\n",
       "4    black   JJ\n",
       "5      red   JJ\n",
       "6        3   CD\n",
       "7     blue   JJ\n",
       "8    brown  VBN\n",
       "9    green   JJ\n",
       "10       4   CD\n",
       "11       0   CD\n",
       "12     and   CC\n",
       "13  yellow   JJ\n",
       "14       5   CD"
      ]
     },
     "execution_count": 161,
     "metadata": {},
     "output_type": "execute_result"
    }
   ],
   "source": [
    "ans_pos=pd.DataFrame(list_ans_tag,columns=['word','POS'])\n",
    "ans_pos.head(15)"
   ]
  },
  {
   "cell_type": "code",
   "execution_count": 79,
   "metadata": {},
   "outputs": [],
   "source": [
    "#pandas_profiling.ProfileReport(ans_pos)"
   ]
  },
  {
   "cell_type": "code",
   "execution_count": 156,
   "metadata": {},
   "outputs": [
    {
     "name": "stdout",
     "output_type": "stream",
     "text": [
      "NN      678\n",
      "JJ      258\n",
      "NNS     192\n",
      "VBP     104\n",
      "VBG     102\n",
      "CD       74\n",
      "RB       37\n",
      "VBD      37\n",
      "VBZ      31\n",
      "IN       24\n",
      "JJR      10\n",
      "VBN       8\n",
      "VB        6\n",
      "DT        3\n",
      "RBR       3\n",
      "RP        3\n",
      "PRP       3\n",
      "CC        2\n",
      "MD        1\n",
      "TO        1\n",
      "WP        1\n",
      "PRP$      1\n",
      "JJS       1\n",
      "FW        1\n",
      "Name: POS, dtype: int64\n",
      "verb forms 288\n",
      "integers 74\n"
     ]
    },
    {
     "data": {
      "image/png": "[encoded data removed]",
      "text/plain": [
       "<Figure size 1080x360 with 1 Axes>"
      ]
     },
     "metadata": {},
     "output_type": "display_data"
    }
   ],
   "source": [
    "\n",
    "count1 = ans_pos['POS'].value_counts()  \n",
    "count1.plot(kind='bar',figsize=(15,5))\n",
    "print(count1)\n",
    "print(\"verb forms\",104+102+37+31+14)\n",
    "print(\"integers\",74)"
   ]
  },
  {
   "cell_type": "markdown",
   "metadata": {},
   "source": [
    "# question"
   ]
  },
  {
   "cell_type": "code",
   "execution_count": 86,
   "metadata": {},
   "outputs": [
    {
     "name": "stdout",
     "output_type": "stream",
     "text": [
      "2751\n"
     ]
    }
   ],
   "source": [
    "\n",
    "text_que= validation.iloc[:,6]\n",
    "text_que = text_que.apply(str)\n",
    "tokenizer2 = Tokenizer(oov_token=\"<OOV>\") # Your Code Here\n",
    "tokenizer2.fit_on_texts(text_que)\n",
    "word_index2 = tokenizer2.word_index\n",
    "print(len(word_index2))\n"
   ]
  },
  {
   "cell_type": "code",
   "execution_count": 160,
   "metadata": {},
   "outputs": [
    {
     "data": {
      "text/html": [
       "<div>\n",
       "<style scoped>\n",
       "    .dataframe tbody tr th:only-of-type {\n",
       "        vertical-align: middle;\n",
       "    }\n",
       "\n",
       "    .dataframe tbody tr th {\n",
       "        vertical-align: top;\n",
       "    }\n",
       "\n",
       "    .dataframe thead th {\n",
       "        text-align: right;\n",
       "    }\n",
       "</style>\n",
       "<table border=\"1\" class=\"dataframe\">\n",
       "  <thead>\n",
       "    <tr style=\"text-align: right;\">\n",
       "      <th></th>\n",
       "      <th>word</th>\n",
       "      <th>POS</th>\n",
       "    </tr>\n",
       "  </thead>\n",
       "  <tbody>\n",
       "    <tr>\n",
       "      <th>0</th>\n",
       "      <td>&lt;OOV&gt;</td>\n",
       "      <td>VB</td>\n",
       "    </tr>\n",
       "    <tr>\n",
       "      <th>1</th>\n",
       "      <td>the</td>\n",
       "      <td>DT</td>\n",
       "    </tr>\n",
       "    <tr>\n",
       "      <th>2</th>\n",
       "      <td>what</td>\n",
       "      <td>WP</td>\n",
       "    </tr>\n",
       "    <tr>\n",
       "      <th>3</th>\n",
       "      <td>is</td>\n",
       "      <td>VBZ</td>\n",
       "    </tr>\n",
       "    <tr>\n",
       "      <th>4</th>\n",
       "      <td>are</td>\n",
       "      <td>VBP</td>\n",
       "    </tr>\n",
       "    <tr>\n",
       "      <th>5</th>\n",
       "      <td>how</td>\n",
       "      <td>WRB</td>\n",
       "    </tr>\n",
       "    <tr>\n",
       "      <th>6</th>\n",
       "      <td>of</td>\n",
       "      <td>IN</td>\n",
       "    </tr>\n",
       "    <tr>\n",
       "      <th>7</th>\n",
       "      <td>many</td>\n",
       "      <td>JJ</td>\n",
       "    </tr>\n",
       "    <tr>\n",
       "      <th>8</th>\n",
       "      <td>color</td>\n",
       "      <td>NN</td>\n",
       "    </tr>\n",
       "    <tr>\n",
       "      <th>9</th>\n",
       "      <td>on</td>\n",
       "      <td>IN</td>\n",
       "    </tr>\n",
       "    <tr>\n",
       "      <th>10</th>\n",
       "      <td>in</td>\n",
       "      <td>IN</td>\n",
       "    </tr>\n",
       "    <tr>\n",
       "      <th>11</th>\n",
       "      <td>this</td>\n",
       "      <td>DT</td>\n",
       "    </tr>\n",
       "    <tr>\n",
       "      <th>12</th>\n",
       "      <td>where</td>\n",
       "      <td>WRB</td>\n",
       "    </tr>\n",
       "    <tr>\n",
       "      <th>13</th>\n",
       "      <td>man</td>\n",
       "      <td>NN</td>\n",
       "    </tr>\n",
       "    <tr>\n",
       "      <th>14</th>\n",
       "      <td>kind</td>\n",
       "      <td>NN</td>\n",
       "    </tr>\n",
       "  </tbody>\n",
       "</table>\n",
       "</div>"
      ],
      "text/plain": [
       "     word  POS\n",
       "0   <OOV>   VB\n",
       "1     the   DT\n",
       "2    what   WP\n",
       "3      is  VBZ\n",
       "4     are  VBP\n",
       "5     how  WRB\n",
       "6      of   IN\n",
       "7    many   JJ\n",
       "8   color   NN\n",
       "9      on   IN\n",
       "10     in   IN\n",
       "11   this   DT\n",
       "12  where  WRB\n",
       "13    man   NN\n",
       "14   kind   NN"
      ]
     },
     "execution_count": 160,
     "metadata": {},
     "output_type": "execute_result"
    }
   ],
   "source": [
    "que_pos=pd.DataFrame(nltk.pos_tag(word_index2),columns=['word','POS'])\n",
    "que_pos.head(15)"
   ]
  },
  {
   "cell_type": "code",
   "execution_count": 164,
   "metadata": {},
   "outputs": [
    {
     "name": "stdout",
     "output_type": "stream",
     "text": [
      "NN      862\n",
      "NNS     475\n",
      "JJ      432\n",
      "VBG     230\n",
      "VBP     195\n",
      "VBD     122\n",
      "RB       85\n",
      "VBZ      71\n",
      "VBN      68\n",
      "IN       60\n",
      "VB       33\n",
      "JJR      21\n",
      "DT       18\n",
      "CD       17\n",
      "JJS      12\n",
      "PRP       9\n",
      "MD        7\n",
      "PRP$      5\n",
      "RBR       5\n",
      "CC        4\n",
      "RP        4\n",
      "WRB       4\n",
      "WP        4\n",
      "FW        3\n",
      "WP$       1\n",
      "WDT       1\n",
      "TO        1\n",
      "EX        1\n",
      "RBS       1\n",
      "Name: POS, dtype: int64\n",
      "verb forms 719\n",
      "integers 17\n",
      "adjectives 465\n"
     ]
    },
    {
     "data": {
      "image/png": "[encoded data removed]",
      "text/plain": [
       "<Figure size 1080x360 with 1 Axes>"
      ]
     },
     "metadata": {},
     "output_type": "display_data"
    }
   ],
   "source": [
    "count2 = que_pos['POS'].value_counts()  \n",
    "count2.plot(kind='bar',figsize=(15,5))\n",
    "print(count2)\n",
    "print(\"verb forms\",230+195+122+71+68+33)\n",
    "print(\"integers\",17)\n",
    "print(\"adjectives\", 432+21+12)\n",
    "print(\"wh question\", )"
   ]
  },
  {
   "cell_type": "markdown",
   "metadata": {},
   "source": [
    "# Logeq"
   ]
  },
  {
   "cell_type": "code",
   "execution_count": 88,
   "metadata": {},
   "outputs": [
    {
     "name": "stdout",
     "output_type": "stream",
     "text": [
      "3433\n"
     ]
    }
   ],
   "source": [
    "\n",
    "text_logeq= validation.iloc[:,1]\n",
    "text_logeq = text_logeq.apply(str)\n",
    "tokenizer3 = Tokenizer(oov_token=\"<OOV>\") # Your Code Here\n",
    "tokenizer3.fit_on_texts(text_logeq)\n",
    "word_index3 = tokenizer3.word_index\n",
    "print(len(word_index3))\n"
   ]
  },
  {
   "cell_type": "code",
   "execution_count": 159,
   "metadata": {},
   "outputs": [
    {
     "data": {
      "text/html": [
       "<div>\n",
       "<style scoped>\n",
       "    .dataframe tbody tr th:only-of-type {\n",
       "        vertical-align: middle;\n",
       "    }\n",
       "\n",
       "    .dataframe tbody tr th {\n",
       "        vertical-align: top;\n",
       "    }\n",
       "\n",
       "    .dataframe thead th {\n",
       "        text-align: right;\n",
       "    }\n",
       "</style>\n",
       "<table border=\"1\" class=\"dataframe\">\n",
       "  <thead>\n",
       "    <tr style=\"text-align: right;\">\n",
       "      <th></th>\n",
       "      <th>word</th>\n",
       "      <th>POS</th>\n",
       "    </tr>\n",
       "  </thead>\n",
       "  <tbody>\n",
       "    <tr>\n",
       "      <th>0</th>\n",
       "      <td>&lt;OOV&gt;</td>\n",
       "      <td>IN</td>\n",
       "    </tr>\n",
       "    <tr>\n",
       "      <th>1</th>\n",
       "      <td>the</td>\n",
       "      <td>DT</td>\n",
       "    </tr>\n",
       "    <tr>\n",
       "      <th>2</th>\n",
       "      <td>is</td>\n",
       "      <td>VBZ</td>\n",
       "    </tr>\n",
       "    <tr>\n",
       "      <th>3</th>\n",
       "      <td>are</td>\n",
       "      <td>VBP</td>\n",
       "    </tr>\n",
       "    <tr>\n",
       "      <th>4</th>\n",
       "      <td>a</td>\n",
       "      <td>DT</td>\n",
       "    </tr>\n",
       "    <tr>\n",
       "      <th>5</th>\n",
       "      <td>there</td>\n",
       "      <td>RB</td>\n",
       "    </tr>\n",
       "    <tr>\n",
       "      <th>6</th>\n",
       "      <td>on</td>\n",
       "      <td>IN</td>\n",
       "    </tr>\n",
       "    <tr>\n",
       "      <th>7</th>\n",
       "      <td>in</td>\n",
       "      <td>IN</td>\n",
       "    </tr>\n",
       "    <tr>\n",
       "      <th>8</th>\n",
       "      <td>this</td>\n",
       "      <td>DT</td>\n",
       "    </tr>\n",
       "    <tr>\n",
       "      <th>9</th>\n",
       "      <td>of</td>\n",
       "      <td>IN</td>\n",
       "    </tr>\n",
       "    <tr>\n",
       "      <th>10</th>\n",
       "      <td>man</td>\n",
       "      <td>NN</td>\n",
       "    </tr>\n",
       "    <tr>\n",
       "      <th>11</th>\n",
       "      <td>white</td>\n",
       "      <td>JJ</td>\n",
       "    </tr>\n",
       "    <tr>\n",
       "      <th>12</th>\n",
       "      <td>2</td>\n",
       "      <td>CD</td>\n",
       "    </tr>\n",
       "    <tr>\n",
       "      <th>13</th>\n",
       "      <td>1</td>\n",
       "      <td>CD</td>\n",
       "    </tr>\n",
       "    <tr>\n",
       "      <th>14</th>\n",
       "      <td>people</td>\n",
       "      <td>NNS</td>\n",
       "    </tr>\n",
       "  </tbody>\n",
       "</table>\n",
       "</div>"
      ],
      "text/plain": [
       "      word  POS\n",
       "0    <OOV>   IN\n",
       "1      the   DT\n",
       "2       is  VBZ\n",
       "3      are  VBP\n",
       "4        a   DT\n",
       "5    there   RB\n",
       "6       on   IN\n",
       "7       in   IN\n",
       "8     this   DT\n",
       "9       of   IN\n",
       "10     man   NN\n",
       "11   white   JJ\n",
       "12       2   CD\n",
       "13       1   CD\n",
       "14  people  NNS"
      ]
     },
     "execution_count": 159,
     "metadata": {},
     "output_type": "execute_result"
    }
   ],
   "source": [
    "logeq_pos=pd.DataFrame(nltk.pos_tag(word_index3),columns=['word','POS'])\n",
    "logeq_pos.head(15)"
   ]
  },
  {
   "cell_type": "code",
   "execution_count": 167,
   "metadata": {},
   "outputs": [
    {
     "name": "stdout",
     "output_type": "stream",
     "text": [
      "NN      1160\n",
      "JJ       543\n",
      "NNS      534\n",
      "VBP      269\n",
      "VBG      256\n",
      "VBD      133\n",
      "RB        98\n",
      "CD        85\n",
      "VBN       71\n",
      "IN        70\n",
      "VBZ       67\n",
      "VB        39\n",
      "JJR       23\n",
      "JJS       17\n",
      "DT        14\n",
      "PRP       12\n",
      "CC         9\n",
      "MD         8\n",
      "PRP$       5\n",
      "FW         3\n",
      "WRB        3\n",
      "$          2\n",
      "RBR        2\n",
      "WP         2\n",
      "NNP        2\n",
      "RP         2\n",
      "WDT        1\n",
      "WP$        1\n",
      "POS        1\n",
      "TO         1\n",
      "Name: POS, dtype: int64\n",
      "verb forms 835\n",
      "integers 85\n",
      "adjectives 583\n"
     ]
    },
    {
     "data": {
      "image/png": "[encoded data removed]",
      "text/plain": [
       "<Figure size 1080x360 with 1 Axes>"
      ]
     },
     "metadata": {},
     "output_type": "display_data"
    }
   ],
   "source": [
    "count3 = logeq_pos['POS'].value_counts()  \n",
    "count3.plot(kind='bar',figsize=(15,5))\n",
    "print(count3)\n",
    "print(\"verb forms\",269+256+133+71+67+39)\n",
    "print(\"integers\", 85)\n",
    "print(\"adjectives\",543+23+17)"
   ]
  },
  {
   "cell_type": "markdown",
   "metadata": {},
   "source": [
    "# Necc"
   ]
  },
  {
   "cell_type": "code",
   "execution_count": 91,
   "metadata": {},
   "outputs": [
    {
     "name": "stdout",
     "output_type": "stream",
     "text": [
      "2588\n"
     ]
    }
   ],
   "source": [
    "\n",
    "text_necc= validation.iloc[:,3]\n",
    "text_necc = text_necc.apply(str)\n",
    "tokenizer4 = Tokenizer(oov_token=\"<OOV>\") # Your Code Here\n",
    "tokenizer4.fit_on_texts(text_necc)\n",
    "word_index4 = tokenizer4.word_index\n",
    "print(len(word_index4))\n"
   ]
  },
  {
   "cell_type": "code",
   "execution_count": 158,
   "metadata": {},
   "outputs": [
    {
     "data": {
      "text/html": [
       "<div>\n",
       "<style scoped>\n",
       "    .dataframe tbody tr th:only-of-type {\n",
       "        vertical-align: middle;\n",
       "    }\n",
       "\n",
       "    .dataframe tbody tr th {\n",
       "        vertical-align: top;\n",
       "    }\n",
       "\n",
       "    .dataframe thead th {\n",
       "        text-align: right;\n",
       "    }\n",
       "</style>\n",
       "<table border=\"1\" class=\"dataframe\">\n",
       "  <thead>\n",
       "    <tr style=\"text-align: right;\">\n",
       "      <th></th>\n",
       "      <th>word</th>\n",
       "      <th>POS</th>\n",
       "    </tr>\n",
       "  </thead>\n",
       "  <tbody>\n",
       "    <tr>\n",
       "      <th>0</th>\n",
       "      <td>&lt;OOV&gt;</td>\n",
       "      <td>NN</td>\n",
       "    </tr>\n",
       "    <tr>\n",
       "      <th>1</th>\n",
       "      <td>is</td>\n",
       "      <td>VBZ</td>\n",
       "    </tr>\n",
       "    <tr>\n",
       "      <th>2</th>\n",
       "      <td>there</td>\n",
       "      <td>RB</td>\n",
       "    </tr>\n",
       "    <tr>\n",
       "      <th>3</th>\n",
       "      <td>a</td>\n",
       "      <td>DT</td>\n",
       "    </tr>\n",
       "    <tr>\n",
       "      <th>4</th>\n",
       "      <td>the</td>\n",
       "      <td>DT</td>\n",
       "    </tr>\n",
       "    <tr>\n",
       "      <th>5</th>\n",
       "      <td>are</td>\n",
       "      <td>VBP</td>\n",
       "    </tr>\n",
       "    <tr>\n",
       "      <th>6</th>\n",
       "      <td>this</td>\n",
       "      <td>DT</td>\n",
       "    </tr>\n",
       "    <tr>\n",
       "      <th>7</th>\n",
       "      <td>any</td>\n",
       "      <td>DT</td>\n",
       "    </tr>\n",
       "    <tr>\n",
       "      <th>8</th>\n",
       "      <td>in</td>\n",
       "      <td>IN</td>\n",
       "    </tr>\n",
       "    <tr>\n",
       "      <th>9</th>\n",
       "      <td>on</td>\n",
       "      <td>IN</td>\n",
       "    </tr>\n",
       "    <tr>\n",
       "      <th>10</th>\n",
       "      <td>anything</td>\n",
       "      <td>NN</td>\n",
       "    </tr>\n",
       "    <tr>\n",
       "      <th>11</th>\n",
       "      <td>of</td>\n",
       "      <td>IN</td>\n",
       "    </tr>\n",
       "    <tr>\n",
       "      <th>12</th>\n",
       "      <td>man</td>\n",
       "      <td>NN</td>\n",
       "    </tr>\n",
       "    <tr>\n",
       "      <th>13</th>\n",
       "      <td>people</td>\n",
       "      <td>NNS</td>\n",
       "    </tr>\n",
       "    <tr>\n",
       "      <th>14</th>\n",
       "      <td>does</td>\n",
       "      <td>VBZ</td>\n",
       "    </tr>\n",
       "  </tbody>\n",
       "</table>\n",
       "</div>"
      ],
      "text/plain": [
       "        word  POS\n",
       "0      <OOV>   NN\n",
       "1         is  VBZ\n",
       "2      there   RB\n",
       "3          a   DT\n",
       "4        the   DT\n",
       "5        are  VBP\n",
       "6       this   DT\n",
       "7        any   DT\n",
       "8         in   IN\n",
       "9         on   IN\n",
       "10  anything   NN\n",
       "11        of   IN\n",
       "12       man   NN\n",
       "13    people  NNS\n",
       "14      does  VBZ"
      ]
     },
     "execution_count": 158,
     "metadata": {},
     "output_type": "execute_result"
    }
   ],
   "source": [
    "necc_pos=pd.DataFrame(nltk.pos_tag(word_index4),columns=['word','POS'])\n",
    "necc_pos.head(15)"
   ]
  },
  {
   "cell_type": "code",
   "execution_count": 166,
   "metadata": {},
   "outputs": [
    {
     "name": "stdout",
     "output_type": "stream",
     "text": [
      "NN      856\n",
      "NNS     449\n",
      "JJ      414\n",
      "VBG     209\n",
      "VBP     201\n",
      "VBD     107\n",
      "RB       65\n",
      "VBN      57\n",
      "VBZ      51\n",
      "IN       47\n",
      "VB       25\n",
      "CD       23\n",
      "DT       15\n",
      "JJR      13\n",
      "MD        8\n",
      "RBR       7\n",
      "PRP       7\n",
      "JJS       7\n",
      "CC        5\n",
      "PRP$      5\n",
      "RP        4\n",
      "WRB       3\n",
      "WP        3\n",
      "NNP       2\n",
      "RBS       2\n",
      "WDT       1\n",
      "TO        1\n",
      "FW        1\n",
      "Name: POS, dtype: int64\n",
      "verb forms 650\n",
      "integers 23\n",
      "adjectives 434\n"
     ]
    },
    {
     "data": {
      "image/png": "[encoded data removed]",
      "text/plain": [
       "<Figure size 1080x360 with 1 Axes>"
      ]
     },
     "metadata": {},
     "output_type": "display_data"
    }
   ],
   "source": [
    "count4 = necc_pos['POS'].value_counts()  \n",
    "count4.plot(kind='bar',figsize=(15,5))\n",
    "print(count4)\n",
    "print(\"verb forms\",201+107+209+57+51+25)\n",
    "print(\"integers\",23)\n",
    "print(\"adjectives\",414+7+13)"
   ]
  },
  {
   "cell_type": "markdown",
   "metadata": {},
   "source": [
    "# Mutex"
   ]
  },
  {
   "cell_type": "code",
   "execution_count": 92,
   "metadata": {},
   "outputs": [
    {
     "name": "stdout",
     "output_type": "stream",
     "text": [
      "3809\n"
     ]
    }
   ],
   "source": [
    "\n",
    "text_mut= validation.iloc[:,2]\n",
    "text_mut = text_mut.apply(str)\n",
    "tokenizer5 = Tokenizer(oov_token=\"<OOV>\") # Your Code Here\n",
    "tokenizer5.fit_on_texts(text_mut)\n",
    "word_index5 = tokenizer5.word_index\n",
    "print(len(word_index5))\n"
   ]
  },
  {
   "cell_type": "code",
   "execution_count": 157,
   "metadata": {},
   "outputs": [
    {
     "data": {
      "text/html": [
       "<div>\n",
       "<style scoped>\n",
       "    .dataframe tbody tr th:only-of-type {\n",
       "        vertical-align: middle;\n",
       "    }\n",
       "\n",
       "    .dataframe tbody tr th {\n",
       "        vertical-align: top;\n",
       "    }\n",
       "\n",
       "    .dataframe thead th {\n",
       "        text-align: right;\n",
       "    }\n",
       "</style>\n",
       "<table border=\"1\" class=\"dataframe\">\n",
       "  <thead>\n",
       "    <tr style=\"text-align: right;\">\n",
       "      <th></th>\n",
       "      <th>word</th>\n",
       "      <th>POS</th>\n",
       "    </tr>\n",
       "  </thead>\n",
       "  <tbody>\n",
       "    <tr>\n",
       "      <th>0</th>\n",
       "      <td>&lt;OOV&gt;</td>\n",
       "      <td>IN</td>\n",
       "    </tr>\n",
       "    <tr>\n",
       "      <th>1</th>\n",
       "      <td>the</td>\n",
       "      <td>DT</td>\n",
       "    </tr>\n",
       "    <tr>\n",
       "      <th>2</th>\n",
       "      <td>is</td>\n",
       "      <td>VBZ</td>\n",
       "    </tr>\n",
       "    <tr>\n",
       "      <th>3</th>\n",
       "      <td>are</td>\n",
       "      <td>VBP</td>\n",
       "    </tr>\n",
       "    <tr>\n",
       "      <th>4</th>\n",
       "      <td>a</td>\n",
       "      <td>DT</td>\n",
       "    </tr>\n",
       "    <tr>\n",
       "      <th>5</th>\n",
       "      <td>there</td>\n",
       "      <td>RB</td>\n",
       "    </tr>\n",
       "    <tr>\n",
       "      <th>6</th>\n",
       "      <td>on</td>\n",
       "      <td>IN</td>\n",
       "    </tr>\n",
       "    <tr>\n",
       "      <th>7</th>\n",
       "      <td>in</td>\n",
       "      <td>IN</td>\n",
       "    </tr>\n",
       "    <tr>\n",
       "      <th>8</th>\n",
       "      <td>this</td>\n",
       "      <td>DT</td>\n",
       "    </tr>\n",
       "    <tr>\n",
       "      <th>9</th>\n",
       "      <td>of</td>\n",
       "      <td>IN</td>\n",
       "    </tr>\n",
       "    <tr>\n",
       "      <th>10</th>\n",
       "      <td>man</td>\n",
       "      <td>NN</td>\n",
       "    </tr>\n",
       "    <tr>\n",
       "      <th>11</th>\n",
       "      <td>blue</td>\n",
       "      <td>JJ</td>\n",
       "    </tr>\n",
       "    <tr>\n",
       "      <th>12</th>\n",
       "      <td>people</td>\n",
       "      <td>NNS</td>\n",
       "    </tr>\n",
       "    <tr>\n",
       "      <th>13</th>\n",
       "      <td>does</td>\n",
       "      <td>VBZ</td>\n",
       "    </tr>\n",
       "    <tr>\n",
       "      <th>14</th>\n",
       "      <td>black</td>\n",
       "      <td>JJ</td>\n",
       "    </tr>\n",
       "  </tbody>\n",
       "</table>\n",
       "</div>"
      ],
      "text/plain": [
       "      word  POS\n",
       "0    <OOV>   IN\n",
       "1      the   DT\n",
       "2       is  VBZ\n",
       "3      are  VBP\n",
       "4        a   DT\n",
       "5    there   RB\n",
       "6       on   IN\n",
       "7       in   IN\n",
       "8     this   DT\n",
       "9       of   IN\n",
       "10     man   NN\n",
       "11    blue   JJ\n",
       "12  people  NNS\n",
       "13    does  VBZ\n",
       "14   black   JJ"
      ]
     },
     "execution_count": 157,
     "metadata": {},
     "output_type": "execute_result"
    }
   ],
   "source": [
    "mut_pos=pd.DataFrame(nltk.pos_tag(word_index5),columns=['word','POS'])\n",
    "mut_pos.head(15)"
   ]
  },
  {
   "cell_type": "code",
   "execution_count": 165,
   "metadata": {},
   "outputs": [
    {
     "name": "stdout",
     "output_type": "stream",
     "text": [
      "NN      1370\n",
      "JJ       612\n",
      "NNS      581\n",
      "VBG      279\n",
      "VBP      257\n",
      "VBD      131\n",
      "CD       112\n",
      "RB       106\n",
      "VBZ       81\n",
      "VBN       70\n",
      "IN        66\n",
      "VB        30\n",
      "JJR       24\n",
      "JJS       15\n",
      "DT        14\n",
      "PRP       11\n",
      "CC         8\n",
      "FW         8\n",
      "MD         7\n",
      "RBR        6\n",
      "PRP$       5\n",
      "WRB        4\n",
      "NNP        3\n",
      "WDT        2\n",
      "WP         2\n",
      "WP$        1\n",
      "PDT        1\n",
      "POS        1\n",
      "RP         1\n",
      "TO         1\n",
      "Name: POS, dtype: int64\n",
      "verb_forms 848\n",
      "integers 112\n",
      "adjectives 651\n"
     ]
    },
    {
     "data": {
      "image/png": "[encoded data removed]",
      "text/plain": [
       "<Figure size 1080x360 with 1 Axes>"
      ]
     },
     "metadata": {},
     "output_type": "display_data"
    }
   ],
   "source": [
    "count5 = mut_pos['POS'].value_counts()  \n",
    "print(count5)\n",
    "count5.plot(kind='bar',figsize=(15,5))\n",
    "print('verb_forms',848)\n",
    "print(\"integers\",112)\n",
    "print(\"adjectives\", 612+24+15)"
   ]
  },
  {
   "cell_type": "markdown",
   "metadata": {},
   "source": [
    "Observations from the above data\n",
    "1. Avg Length of necc questions is shorter than the others(25.7 in necc, 30.3 in mutex and logeq and 31.6 in question)\n",
    "2. No of cardinal digits(CD) in Necc questions is only 23 and only 17 in question as compared to 112 in mutex and 85 in logeq.\n",
    "3. No of verb forms in necc are 650 whereas 848 in mutex, 835 in logeq and 719 in question\n",
    "4. No of adjectives in necc are 434 whereas there are 583 in logeq, 465 in question and 651 in mutex.\n",
    "5. 15 of the most frequently occuring words from all columns (question, answer, mutex, logeq and necc) are also shown in tables.\n"
   ]
  },
  {
   "cell_type": "code",
   "execution_count": null,
   "metadata": {},
   "outputs": [],
   "source": []
  }
 ],
 "metadata": {
  "kernelspec": {
   "display_name": "Python 3",
   "language": "python",
   "name": "python3"
  },
  "language_info": {
   "codemirror_mode": {
    "name": "ipython",
    "version": 3
   },
   "file_extension": ".py",
   "mimetype": "text/x-python",
   "name": "python",
   "nbconvert_exporter": "python",
   "pygments_lexer": "ipython3",
   "version": "3.7.6"
  }
 },
 "nbformat": 4,
 "nbformat_minor": 4
}
